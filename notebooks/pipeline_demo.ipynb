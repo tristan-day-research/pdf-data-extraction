{
 "cells": [
  {
   "cell_type": "markdown",
   "metadata": {},
   "source": [
    "# PDF Processing Pipeline Demo\n",
    "\n",
    "This notebook demonstrates how to detect the type of a PDF, classify elements from digital PDFs, and route those elements to placeholder processors."
   ]
  },
  {
   "cell_type": "code",
   "execution_count": 1,
   "id": "fbebb7f0",
   "metadata": {},
   "outputs": [
    {
     "data": {
      "text/plain": [
       "'digital'"
      ]
     },
     "execution_count": 1,
     "metadata": {},
     "output_type": "execute_result"
    }
   ],
   "source": [
    "%load_ext autoreload\n",
    "%autoreload 2\n",
    "\n",
    "import sys\n",
    "sys.path.append('../src')\n",
    "\n",
    "from extraction.classifiers.pdf import PDFTypeDetector, DigitalElementClassifier\n",
    "from extraction.routers.pdf import ElementRouter\n",
    "from pathlib import Path\n",
    "\n",
    "# pdf_path = Path('../data/digital.pdf')\n",
    "pdf_path = Path('../data/Ripples of Consciousenss.pdf')\n",
    "# pdf_path = Path('../data/0d45add2d94d80a0eb85e41e22aa43a0.pdf')\n",
    "\n",
    "detector = PDFTypeDetector()\n",
    "pdf_type = detector.detect(str(pdf_path))\n",
    "pdf_type"
   ]
  },
  {
   "cell_type": "code",
   "execution_count": 2,
   "id": "9048acf5",
   "metadata": {},
   "outputs": [],
   "source": [
    "if pdf_type == 'digital':\n",
    "    classifier = DigitalElementClassifier()\n",
    "    results = classifier.classify(str(pdf_path))\n",
    "else:\n",
    "    results = []"
   ]
  },
  {
   "cell_type": "code",
   "execution_count": 4,
   "id": "d691ffc6",
   "metadata": {},
   "outputs": [
    {
     "name": "stdout",
     "output_type": "stream",
     "text": [
      "dict_keys(['text', 'tables', 'images'])\n",
      "key text, length 12\n",
      "key tables, length 0\n",
      "key images, length 3\n",
      "{'id': 'text_p1_0', 'kind': 'text', 'page_range': (1, 1), 'bboxes_per_page': [{'page': 1, 'bbox': (45.5811, 30.696643999999992, 562.5753007999999, 41.71437380000009)}], 'metadata': {'font': '', 'font_size': 0.0, 'is_heading': False, 'word_count': 11, 'column_span': None}, 'text': 'Spotlights Trends in Cognitive Sciences November 2013, Vol. 17, No. 11'}\n",
      "{'id': 'text_p0_0', 'kind': 'text', 'page_range': (0, 0), 'bboxes_per_page': [{'page': 0, 'bbox': (52.6677, 32.000643999999966, 106.38871800000001, 42.959644000000026)}], 'metadata': {'font': '', 'font_size': 0.0, 'is_heading': False, 'word_count': 1, 'column_span': None}, 'text': 'Spotlights'}\n",
      "{'id': 'text_p0_1', 'kind': 'text', 'page_range': (0, 0), 'bboxes_per_page': [{'page': 0, 'bbox': (49.6063, 78.37723470000003, 569.6674065999999, 233.05773999999997)}], 'metadata': {'font': '', 'font_size': 0.0, 'is_heading': False, 'word_count': 112, 'column_span': None}, 'text': 'Ripples of consciousness 1,2,3 1,2,3 3,4,5 Jean-Re´mi Jacobo D. Sitt , King , Lionel Naccache , and 1,2,6,7 Stanislas Dehaene 1Cognitive Neuroimaging Unit, Institut National de la Sante´ et de la Recherche Me´ dicale, U992, F-91191 Gif/Yvette, France 2NeuroSpin Center, Institute of BioImaging Commissariat a` l’Energie Atomique, F-91191 Gif/Yvette, France E´pinie` 3Institut du Cerveau et de la Moelle re Research Center, Institut National de la Sante´ et de la Recherche Me´ dicale, U975 Paris, France 4AP-HP, Groupe hospitalier Pitie´ -Salpeˆ trie` re, Department of Neurophysiology, Paris, France 5Faculte´ de Me´ decine Pitie´ -Salpeˆ trie` re, Universite´ Paris 6, Paris, France 6Universite´ Paris 11, Orsay, France 7Colle` ge de France, F-75005 Paris, France'}\n",
      "{'id': 'text_p0_2', 'kind': 'text', 'page_range': (0, 0), 'bboxes_per_page': [{'page': 0, 'bbox': (49.605780039999985, 258.61119699999995, 569.6832894, 776.8030622)}], 'metadata': {'font': '', 'font_size': 0.0, 'is_heading': False, 'word_count': 662, 'column_span': None}, 'text': 'et al. Casali recently showed that the complexity of the Furthermore, the authors tested this method in twelve als. brain response to a transcranial electrophysiological with disorders of consciousness (DOC) and eight patients stimulation pulse distinguishes conscious magnetic brain-injured subjects. Vegetative state patients conscious unconscious humans in a variety of conditions. from had PCIs similar to the anesthesia and sleeping (n=6) addition to its theoretical implications, this novel In yet patients in a minimally conscious state (n=6) groups, paves the way to a quantitative assessment method emerging from it (n=6) had significantly higher PCIs or the states of consciousness. of they remained smaller than those of awake (although Finally, conscious but paralyzed patients subjects). minute, millions of people lose (and recover) con- syndrome’, n=2), whose behavior may be con- (‘locked-in Every because of the natural sleep-wake cycle, but with a vegetative state, presented PCIs similar to sciousness, founded because of abnormal conditions, such as coma, vege- awake controls. These findings represent a major also healthy state, complex epileptic seizures, or general anes- in the search for an empirical quantitative metric tative advance Yet, the precise neuronal mechanisms responsible consciousness, with important theoretical and clinical thesia. for consciousness are poorly understood, and detecting for implications. a person is conscious therefore remains a major whether implications Theoretical challenge. et al. et al. an exciting recent paper, Casali [1] introduced a argue that the PCI was designed to detect Casali In assay of the state of consciousness. Their work and ‘differentiation’, two central properties of quantitative ‘integration’ on the electroencephalography (EEG) response information integration theory of consciousness (IIT) capitalizes the by a cortical transcranial magnetic stimulation According to the authors, integration can, in practice, evoked [3]. pulse. Previous research by the same group [2] assessed by the global spread of cortical activation (TMS) be that, in conscious subjects, TMS pulses by focal TMS, whereas differentiation relates to demonstrated evoked elicit a complex spatiotemporal pattern of fact that distinct regions are successively activated, systematically the whereas when the subjects are anesthetized, temporal redundancy. It should be noted, however, activation, without or in a vegetative state, TMS induces only a short EEG does not have the spatial resolution needed to asleep, that undifferentiated response (Figure 1). In their new the micro-differentiation of cell assemblies postu- and evaluate [1], the authors quantify the complexity of this in IIT and that the PCI is not directly related to work lated response. They first reconstruct its cortical sources Phi measure (a formal quantification of the inte- EEG Tononi’s then use algorithmic information theory tools to esti- information in a given network) proposed by IIT as a and grated the complexity of its spatiotemporal dynamics. They of consciousness. Although the technique was in- mate marker the outcome Perturbational Complexity Index (PCI), by IIT ideas, the results so far merely show that term spired number that ranges between 0 (no complexity) and 1 elicits a complex series of ripples across different a TMS complexity). areas only in conscious subjects. As such, they re- (maximal brain et al. applied this method to a large panel of compatible with other models that associate con- Casali main (n=32), obtaining recordings during wakefulness, with a preserved functional thalamocortical subjects sciousness deep and REM sleep, and anesthesia with midazolam, able to ‘broadcast’ local activation to many distant light system or propofol. Whereas all awake subjects presented a sites or to entertain long-lasting reverberating xenon, cortical above 0.44, all unconscious sleeping and anesthetized [4,5]. PCI states systematically showed values below 0.31. Thus, remarkable finding is that the PCI is quantitatively patients A the proposed index was distributed bimodally regardless of the initial site of TMS application remarkably, identical separated all conscious from all unconscious individu- This finding fits with IIT’s hypothesis that only and [1]. integration matters for the measurement of information whereas the specific anatomical areas in- consciousness, Corresponding author: Sitt, J.D. (jdsitt@gmail.com); Dehaene, S. (stanislas.dehae- can be disregarded. Nonetheless, this aspect of the volved ne@gmail.com). 552'}\n",
      "{'id': 'text_p1_0', 'kind': 'text', 'page_range': (1, 1), 'bboxes_per_page': [{'page': 1, 'bbox': (45.5811, 30.696643999999992, 562.5753007999999, 41.71437380000009)}], 'metadata': {'font': '', 'font_size': 0.0, 'is_heading': False, 'word_count': 11, 'column_span': None}, 'text': 'Spotlights Trends in Cognitive Sciences November 2013, Vol. 17, No. 11'}\n",
      "{'id': 'text_p1_1', 'kind': 'text', 'page_range': (1, 1), 'bboxes_per_page': [{'page': 1, 'bbox': (42.5197, 65.0163, 562.6400505, 283.34274000000005)}], 'metadata': {'font': '', 'font_size': 0.0, 'is_heading': False, 'word_count': 153, 'column_span': None}, 'text': 'Non-rapid eye movement (NREM) sleep NREM sleep Midasolam TMS Xenon Propofol 0.002 Vegeta(cid:2)ve state µA/mm2 Normal wakefulness Minimally conscious 0.010 Emerging from MCS TMS Locked-in syndrome Normal wakefulness 0.1 0.7 15 ms 50 ms 100 ms 150 ms 250 ms Perturba(cid:2)onal complexity index TRENDS in Cognitive Sciences Figure 1. Cortical activation evoked by a TMS pulse and perturbation complexity index. The left panel (adapted from [2]) presents the current densities elicited by a TMS pulse over the somatosensory cortex. The moving cross marks the location of maximum current at each time point. Whereas the TMS pulse elicits only a local response in NREM sleep (top), in wakefulness it triggers a spatiotemporal sequence of maximal activations in different cortical locations (bottom). In the right panel (adapted from [1]), the perturbational complexity index (PCI) discriminates well these two patterns of responses, as well as those obtained in pharmacological and pathological unconscious conditions (red and purple).'}\n",
      "{'id': 'text_p1_2', 'kind': 'text', 'page_range': (1, 1), 'bboxes_per_page': [{'page': 1, 'bbox': (42.519162119999976, 315.41763908, 562.5852682, 748.8321258)}], 'metadata': {'font': '', 'font_size': 0.0, 'is_heading': False, 'word_count': 594, 'column_span': None}, 'text': 'Similarly, research limits the interpretation of the precise neural the late long-lasting event-related potentials at work during conscious states. It would by an auditory oddball provide a tentative marker mechanisms evoked important to know whether prefrontal, cingular, or consciousness in DOC patients [9]. Perhaps one might be of cortices, as well as thalamocortical loops are dispense with the stimulus altogether and simply precuneus even involved, as predicted by previous studies the presence of distributed and durable activation systematically evaluate et al. in ongoing EEG. In recent work, King show [4]. patterns important methodological aspect is the length of a new EEG marker of the sharing of information that One time window used for PCI computation. In [1], the long cortical distances provides a sensitive index the across was performed on a 300 ms window following consciousness in a large cohort of DOC patients (n=167) analysis of Although this choice may have been optimal, it TMS. [10]. arbitrary, as IIT theory does not specify the time hundreds of TMS pulses are needed to compute seems Finally, at which information integration should take place. single PCI value. This limitation may become relevant for scale a processing might well be significantly slower in conscious patients in whom consciousness fluc- Conscious minimally with diffuse white-matter lesions, demyelinating over time or for the real-time monitoring of anes- patients tuates or during development. Indeed, a recent study Could future research provide higher temporal diseases, thesia. that human infants present the same electrophys- faster acquisition and computation times, showed resolution, signatures of visual conscious perception as ultimately a single-trial index of consciousness? Casali iological and al.’s et but at much slower time scale [6]. It will important research demonstrates that the dream of such a adults, verify whether the PCI is robust to such temporal ‘consciousness-o-meter’ may not be out of to quantitative changes. reach. implications Clinical References et al.’s Casali patient sample remains small, Although et al. 1 Casali, A.G. (2013) A theoretically based index of consciousness approach holds great promise for the diagnosis of their Sci. Transl. Med. independent of sensory processing and behavior. 5, 198ra105 state patients and the monitoring of anesthesia. vegetative et al. 2 Massimini, M. (2007) Triggering sleep slow waves by stimulation has the clear advantage of directly per- TMS Proc. Natl. Acad. Sci. U.S.A. transcranial magnetic stimulation. 104, the cortex with a strong stimulus, thus generating turbing 8496–8501 EEG signals without requiring the integrity of a large 3 Tononi, G. (2004) An information integration theory of consciousness. BMC Neurosci. 5, 42 sensory pathway. Furthermore, unlike other particular 4 Dehaene, S. and Changeux, J-P. (2011) Experimental and theoretical previously tested to detect consciousness (see paradigms Neuron approaches to conscious processing. 70, 200–227 for a review), this passive method does not depend on [7], 5 Lamme, V.A.F. and Roelfsema, P.R. (2000) The distinct modes of vision task instructions, or language comprehension. attention, Trends Neurosci. offered by feedforward and recurrent processing. 23, because TMS-compatible EEG is not avail- Nevertheless, 571–579 et al. 6 Kouider, S. (2013) A neural marker of perceptual consciousness in in most clinics, it would be valuable to investigate if able Science infants. 340, 376–380 TMS pulse is necessary or if it could be replaced by the 7 Harrison, A.H. and Connolly, J.F. (2013) Finding a way in: a review and et. al. sensory stimulus. Supp [8] showed that another practical evaluation of fMRI and EEG for detection and assessment in sequence of EEG responses to median nerve stimula- the Neurosci. Biobehav. Rev. disorders of consciousness. http://dx.doi.org/ decreases dramatically under propofol anesthesia. tion 10.1016/j.neubiorev.2013.05.004'}\n",
      "{'id': 'text_p1_3', 'kind': 'text', 'page_range': (1, 1), 'bboxes_per_page': [{'page': 1, 'bbox': (550.9983, 769.9993622000001, 562.5469128, 776.9731622)}], 'metadata': {'font': '', 'font_size': 0.0, 'is_heading': False, 'word_count': 1, 'column_span': None}, 'text': '553'}\n",
      "{'id': 'text_p2_0', 'kind': 'text', 'page_range': (2, 2), 'bboxes_per_page': [{'page': 2, 'bbox': (52.6677, 30.696643999999992, 569.6620007999999, 42.337973799999986)}], 'metadata': {'font': '', 'font_size': 0.0, 'is_heading': False, 'word_count': 11, 'column_span': None}, 'text': 'Spotlights Trends in Cognitive Sciences November 2013, Vol. 17, No. 11'}\n",
      "{'id': 'text_p2_1', 'kind': 'text', 'page_range': (2, 2), 'bboxes_per_page': [{'page': 2, 'bbox': (53.348, 62.87804719999997, 569.6076486000001, 124.21981821000008)}], 'metadata': {'font': '', 'font_size': 0.0, 'is_heading': False, 'word_count': 85, 'column_span': None}, 'text': 'et al. et al. 8 Supp, G.G. (2011) Cortical hypersynchrony predicts breakdown King, J.R. (2013) Information sharing in the brain indexes 10 Curr. Biol. Curr. Biol. of consciousness sensory processing during loss of consciousness. 21, in noncommunicative patients. http:// 1988–1993 dx.doi.org/10.1016/j.cub.2013.07.075 et al. 9 King, J.R. (2013) Single-trial decoding of auditory novelty responses facilitates the detection of residual consciousness. (cid:2) 1364-6613/$ – see front matter 2013 Elsevier Ltd. All rights reserved. Neuroimage Trends in Cognitive http://dx.doi.org/10.1016/j.tics.2013.09.003 83C, 726–738 November 2013, Vol. 17, No. 11 Sciences,'}\n",
      "{'id': 'text_p2_2', 'kind': 'text', 'page_range': (2, 2), 'bboxes_per_page': [{'page': 2, 'bbox': (49.6063, 143.40393470000004, 348.55757256, 163.32923470000003)}], 'metadata': {'font': '', 'font_size': 0.0, 'is_heading': False, 'word_count': 5, 'column_span': None}, 'text': 'Early signs of brain asymmetry'}\n",
      "{'id': 'text_p2_3', 'kind': 'text', 'page_range': (2, 2), 'bboxes_per_page': [{'page': 2, 'bbox': (49.6063, 178.98054849999994, 412.6941278, 209.92704000000003)}], 'metadata': {'font': '', 'font_size': 0.0, 'is_heading': False, 'word_count': 15, 'column_span': None}, 'text': 'Michael C. Corballis School of Psychology, University of Auckland, Private Bag 92019, Auckland, New Zealand'}\n",
      "{'id': 'text_p2_4', 'kind': 'text', 'page_range': (2, 2), 'bboxes_per_page': [{'page': 2, 'bbox': (49.60581659999994, 236.5388554, 569.6846593, 776.9731622)}], 'metadata': {'font': '', 'font_size': 0.0, 'is_heading': False, 'word_count': 614, 'column_span': None}, 'text': 'A new study shows a leftward asymmetry of the choroid life [3]. The choroid plexus is a structure in the ventricles in two-thirds of first-trimester human fetuses. plexus the brain that produces cerebrospinal fluid. It is present of is the earliest brain asymmetry so far identified This the third and fourth ventricles, and fills the lateral in may be a precursor to other asymmetries, including and in the first trimester. The shape of the choroid ventricles of the temporal planum, which is evident from the that the so-called ‘butterfly sign’, in the lateral ventri- plexus, week of gestation. 31st has proven to be one of the most sensitive first-trimes- cles sign of brain abnormalities [4], and it is in this region ter body plan of most animals, including humans, is to all the asymmetry was apparent [Figure 1]. that The appearances bilaterally symmetrical, so that is reason to conjecture that this asymmetry outward There asymmetries of brain and behaviour have long the asymmetry of the temporal planum, which functional underlies sources of fascination. The near universal human detectable in approximately two-thirds of human fetuses been is for using the right hand has given rise to the 31st week of gestation [5]. The cerebrospinal fluid preference from symbolism and prejudice as far back as the long been considered a ‘sink’ for the clearance of brain superstition, has record takes us, and the discoveries from the late but evidence increasingly shows that it plays historical metabolites, century of a predominantly left-hemispheric speciali- role in brain development, synthesizing a large number of 19th a for speech and language, along with complementary growth factors and cytokines. The choroid plexus zation peptides, specializations, has led to notions of a smaller with advancing age, and in the first trimes- right-hemispheric grows duality pervading human affairs, whether in its large size creates relatively short distances for fundamental ter politics, religion, or even business. Until quite recently, substance to reach target neural tissue. It is art, bioactive of function has also been considered a special ideally situated to exert a strong influence early asymmetry therefore of the human brain, perhaps even a defining one, fetal development. Due to the asymmetry, that influence feature in comparable asymmetries are now widely documented likely to be stronger on the left than on the right. but is a wide range of species [1]. in recently, too, discoveries of anatomical asymme- More have suggested potential physical bases for behavior- tries and functional ones. These asymmetries include a al ‘torque’, in which the right frontal pole counterclockwise beyond the left and the left occipital pole pro- protrudes beyond the right, as well as enlargements of Broca’s trudes the arcuate fasciculus, and the temporal planum on area, left relative to the right [2]. Chimpanzees, too, show the asymmetries of the temporal planum and the leftward of Broca’s area, as well as a population-level homolog for the right hand, although the incidence of preference is only approximately 65–70 percent, right-handedness below the incidence of approximately 90 percent in well humans. is known of the genetic bases of these asymme- Little but at least some of them are are inborn and mea- tries, well before birth. The earliest sign of anatomical surable so far identified comes from a new study that asymmetry the choroid plexus to be larger on the left than on the shows in approximately two-thirds of human fetuses in the right TRENDS in Cognitive Sciences to 13th week of gestation – the first trimester of 11th Figure 1. Ultrasound image of choroid plexus at first trimester, showing enlargement on the left. Reproduced with permission from the American Institute of Ultrasound in Medicine. Corresponding author: Corballis, M.C. (m.corballis@auckland.ac.nz). 554'}\n",
      "{'id': 'image_p1_0', 'kind': 'image', 'page_range': (1, 1), 'bboxes_per_page': [{'page': 1, 'bbox': (68.064, 66.46500000000003, 538.296, 210.17700000000002)}], 'metadata': {'width': 470.2320000000001, 'height': 143.712, 'name': 'Im1', 'stream': <PDFStream(34): raw=522547, {'BitsPerComponent': 8, 'ColorSpace': /'DeviceCMYK', 'Filter': /'DCTDecode', 'Height': 599, 'Length': 522547, 'Subtype': /'Image', 'Type': /'XObject', 'Width': 1959}>}}\n",
      "{'id': 'image_p2_0', 'kind': 'image', 'page_range': (2, 2), 'bboxes_per_page': [{'page': 2, 'bbox': (524.424, 101.2650000000001, 544.1759999999999, 121.01700000000005)}], 'metadata': {'width': 19.751999999999953, 'height': 19.751999999999953, 'name': 'Im2', 'stream': <PDFStream(64): raw=6982, {'BitsPerComponent': 8, 'ColorSpace': /'DeviceCMYK', 'Filter': /'DCTDecode', 'Height': 82, 'Length': 6982, 'Subtype': /'Image', 'Type': /'XObject', 'Width': 82}>}}\n",
      "{'id': 'image_p2_1', 'kind': 'image', 'page_range': (2, 2), 'bboxes_per_page': [{'page': 2, 'bbox': (343.884, 510.225, 543.876, 714.777)}], 'metadata': {'width': 199.99199999999996, 'height': 204.552, 'name': 'Im3', 'stream': <PDFStream(65): raw=212677, {'BitsPerComponent': 8, 'ColorSpace': /'DeviceCMYK', 'Filter': /'DCTDecode', 'Height': 852, 'Length': 212677, 'Subtype': /'Image', 'Type': /'XObject', 'Width': 833}>}}\n"
     ]
    }
   ],
   "source": [
    "print(results.keys())\n",
    "\n",
    "for key, value in results.items():\n",
    "    print(f'key {key}, length {len(value)}')\n",
    "\n",
    "text = results['text']\n",
    "\n",
    "print(text[3])\n",
    "\n",
    "for text_block in text:\n",
    "    print(text_block)\n",
    "\n",
    "for image in results['images']:\n",
    "    print(image)"
   ]
  },
  {
   "cell_type": "code",
   "execution_count": null,
   "id": "56932eaa",
   "metadata": {},
   "outputs": [],
   "source": [
    "# Patch processor modules with simple stand-ins so the demo can run end-to-end\n",
    "from extraction.processors.pdf import text_processor, table_processor, image_processor\n",
    "\n",
    "def show_text(blocks):\n",
    "    print(f'Text blocks: {len(blocks)}')\n",
    "\n",
    "def show_table(table):\n",
    "    print('Table bbox:', table)\n",
    "\n",
    "def show_image(image):\n",
    "    print('Image:', image)\n",
    "\n",
    "text_processor.process_text = show_text\n",
    "table_processor.process_table = show_table\n",
    "image_processor.process_image = show_image\n",
    "\n",
    "# Route the elements collected in the previous step\n",
    "router = ElementRouter()\n",
    "router.route_elements(pages)"
   ]
  }
 ],
 "metadata": {
  "kernelspec": {
   "display_name": "venv",
   "language": "python",
   "name": "python3"
  },
  "language_info": {
   "codemirror_mode": {
    "name": "ipython",
    "version": 3
   },
   "file_extension": ".py",
   "mimetype": "text/x-python",
   "name": "python",
   "nbconvert_exporter": "python",
   "pygments_lexer": "ipython3",
   "version": "3.9.6"
  }
 },
 "nbformat": 4,
 "nbformat_minor": 5
}
