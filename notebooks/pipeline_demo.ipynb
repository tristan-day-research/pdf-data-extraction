{
 "cells": [
  {
   "cell_type": "markdown",
   "metadata": {},
   "source": [
    "# PDF Processing Pipeline Demo\n",
    "\n",
    "This notebook demonstrates how to detect the type of a PDF, classify elements from digital PDFs, and route those elements to placeholder processors."
   ]
  },
  {
   "cell_type": "code",
   "execution_count": 1,
   "id": "fbebb7f0",
   "metadata": {},
   "outputs": [
    {
     "data": {
      "text/plain": [
       "'digital'"
      ]
     },
     "execution_count": 1,
     "metadata": {},
     "output_type": "execute_result"
    }
   ],
   "source": [
    "import sys\n",
    "sys.path.append('../src')\n",
    "\n",
    "from extraction.classifiers.pdf import PDFTypeDetector, DigitalElementClassifier\n",
    "from extraction.routers.pdf import ElementRouter\n",
    "from pathlib import Path\n",
    "\n",
    "pdf_path = Path('../data/digital.pdf')\n",
    "\n",
    "detector = PDFTypeDetector()\n",
    "pdf_type = detector.detect(str(pdf_path))\n",
    "pdf_type"
   ]
  },
  {
   "cell_type": "code",
   "execution_count": 2,
   "id": "9048acf5",
   "metadata": {},
   "outputs": [
    {
     "data": {
      "text/plain": [
       "[{'text': [{'text': 'Hello',\n",
       "    'x0': 72.0,\n",
       "    'x1': 126.672,\n",
       "    'top': 60.96799999999999,\n",
       "    'doctop': 60.96799999999999,\n",
       "    'bottom': 84.968,\n",
       "    'upright': True,\n",
       "    'height': 24.000000000000014,\n",
       "    'width': 54.672,\n",
       "    'direction': 'ltr'},\n",
       "   {'text': 'World',\n",
       "    'x0': 133.344,\n",
       "    'x1': 196.00800000000004,\n",
       "    'top': 60.96799999999999,\n",
       "    'doctop': 60.96799999999999,\n",
       "    'bottom': 84.968,\n",
       "    'upright': True,\n",
       "    'height': 24.000000000000014,\n",
       "    'width': 62.664000000000044,\n",
       "    'direction': 'ltr'}],\n",
       "  'tables': [],\n",
       "  'images': []}]"
      ]
     },
     "execution_count": 2,
     "metadata": {},
     "output_type": "execute_result"
    }
   ],
   "source": [
    "if pdf_type == 'digital':\n",
    "    classifier = DigitalElementClassifier()\n",
    "    pages = classifier.classify(str(pdf_path))\n",
    "else:\n",
    "    pages = []\n",
    "\n",
    "pages"
   ]
  },
  {
   "cell_type": "code",
   "execution_count": 3,
   "id": "56932eaa",
   "metadata": {},
   "outputs": [
    {
     "name": "stdout",
     "output_type": "stream",
     "text": [
      "Text blocks: 2\n"
     ]
    }
   ],
   "source": [
    "# Patch processor modules with simple stand-ins so the demo can run end-to-end\n",
    "from extraction.processors.pdf import text_processor, table_processor, image_processor\n",
    "\n",
    "def show_text(blocks):\n",
    "    print(f'Text blocks: {len(blocks)}')\n",
    "\n",
    "def show_table(table):\n",
    "    print('Table bbox:', table)\n",
    "\n",
    "def show_image(image):\n",
    "    print('Image:', image)\n",
    "\n",
    "text_processor.process_text = show_text\n",
    "table_processor.process_table = show_table\n",
    "image_processor.process_image = show_image\n",
    "\n",
    "# Route the elements collected in the previous step\n",
    "router = ElementRouter()\n",
    "router.route_elements(pages)"
   ]
  }
 ],
 "metadata": {
  "kernelspec": {
   "display_name": "venv",
   "language": "python",
   "name": "python3"
  },
  "language_info": {
   "codemirror_mode": {
    "name": "ipython",
    "version": 3
   },
   "file_extension": ".py",
   "mimetype": "text/x-python",
   "name": "python",
   "nbconvert_exporter": "python",
   "pygments_lexer": "ipython3",
   "version": "3.9.6"
  }
 },
 "nbformat": 4,
 "nbformat_minor": 5
}
