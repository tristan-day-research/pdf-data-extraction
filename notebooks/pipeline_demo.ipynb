{
 "cells": [
  {
   "cell_type": "markdown",
   "metadata": {},
   "source": [
    "# PDF Processing Pipeline Demo\n",
    "\n",
    "This notebook demonstrates how to detect the type of a PDF, classify elements from digital PDFs, and route those elements to placeholder processors."
   ]
  },
  {
   "cell_type": "code",
   "execution_count": 1,
   "id": "fbebb7f0",
   "metadata": {},
   "outputs": [
    {
     "data": {
      "text/plain": [
       "'digital'"
      ]
     },
     "execution_count": 1,
     "metadata": {},
     "output_type": "execute_result"
    }
   ],
   "source": [
    "%load_ext autoreload\n",
    "%autoreload 2\n",
    "\n",
    "import sys\n",
    "import os\n",
    "sys.path.append('../src')\n",
    "sys.path.append(os.path.abspath('..'))  # This gets the absolute path to root\n",
    "\n",
    "from extraction.classifiers.pdf import PDFTypeDetector, DigitalElementClassifier\n",
    "from extraction.routers.pdf import ElementRouter\n",
    "from pathlib import Path\n",
    "\n",
    "from extraction.utils.document_manager import DocumentManager\n",
    "\n",
    "# pdf_path = Path('../data/digital.pdf')\n",
    "pdf_path = Path('../data/unprocessed_documents/Ripples of Consciousenss.pdf')\n",
    "pdf_path = Path('../data/unprocessed_documents/2016 Atasoy Connectome Harmonics.pdf')\n",
    "# pdf_path = Path('../data/0d45add2d94d80a0eb85e41e22aa43a0.pdf')\n",
    "\n",
    "detector = PDFTypeDetector()\n",
    "pdf_type = detector.detect(str(pdf_path))\n",
    "pdf_type"
   ]
  },
  {
   "cell_type": "code",
   "execution_count": 2,
   "id": "9048acf5",
   "metadata": {},
   "outputs": [
    {
     "name": "stdout",
     "output_type": "stream",
     "text": [
      "📋 Processing document: 2016 Atasoy Connectome Harmonics_1756174013\n",
      "📄 PDF: 2016 Atasoy Connectome Harmonics.pdf\n",
      "📄 Copied 2016 Atasoy Connectome Harmonics.pdf to /Users/daylight/Desktop/pdf_data_extraction/pdf-data-extraction/data/documents/2016 Atasoy Connectome Harmonics_1756174013/raw/2016 Atasoy Connectome Harmonics.pdf\n",
      "✅ Document processed and saved to: /Users/daylight/Desktop/pdf_data_extraction/pdf-data-extraction/data/documents/2016 Atasoy Connectome Harmonics_1756174013\n"
     ]
    }
   ],
   "source": [
    "# if pdf_type == 'digital':\n",
    "#     classifier = DigitalElementClassifier()\n",
    "#     results = classifier.classify(str(pdf_path))\n",
    "# else:\n",
    "#     results = []\n",
    "\n",
    "\n",
    "if pdf_type == 'digital':\n",
    "    \n",
    "    # Create a document ID from the PDF filename\n",
    "    pdf_name = pdf_path.stem\n",
    "    document_id = f\"{pdf_name}_{int(__import__('time').time())}\"\n",
    "    \n",
    "    print(f\"📋 Processing document: {document_id}\")\n",
    "    print(f\"📄 PDF: {pdf_path.name}\")\n",
    "    \n",
    "    # Create document structure and copy PDF\n",
    "    \n",
    "    doc_manager = DocumentManager()\n",
    "    doc_path = doc_manager.create_document(document_id, str(pdf_path))\n",
    "    \n",
    "    # Now classify with document_id so images are saved to the right place\n",
    "    classifier = DigitalElementClassifier()\n",
    "    results = classifier.classify(str(pdf_path), document_id=document_id)\n",
    "    \n",
    "    # Save extracted elements to organized folders\n",
    "    doc_manager.save_elements(document_id, results)\n",
    "    \n",
    "    print(f\"✅ Document processed and saved to: {doc_path}\")\n",
    "else:\n",
    "    results = []"
   ]
  },
  {
   "cell_type": "code",
   "execution_count": null,
   "id": "d691ffc6",
   "metadata": {},
   "outputs": [],
   "source": [
    "print(results.keys())\n",
    "\n",
    "for key, value in results.items():\n",
    "    print(f'key {key}, length {len(value)}')\n",
    "\n",
    "\n",
    "\n",
    "# for text_block in results['text']:\n",
    "#     # print(text_block)\n",
    "\n",
    "#     try:\n",
    "#         print(text_block['text'])\n",
    "#     except:\n",
    "#         # print(\"~~~~~~~~~~~ ERROR ~~~~~~~~ Could not print text from text bloc\")\n",
    "#         continue\n",
    "\n",
    "\n",
    "# for image in results['images']:\n",
    "#     print(image)\n",
    "\n",
    "\n",
    "# Text Concatenation Function for PDF Data Extraction\n",
    "\n",
    "\n",
    "def concatenate_text_blocks(text_blocks):\n",
    "    \"\"\"\n",
    "    Concatenate all text entries from text blocks into one big string.\n",
    "    \n",
    "    Args:\n",
    "        text_blocks: List of text block dictionaries\n",
    "        \n",
    "    Returns:\n",
    "        str: Concatenated text from all blocks\n",
    "    \"\"\"\n",
    "    concatenated_text = \"\"\n",
    "    \n",
    "    for text_block in text_blocks:\n",
    "        try:\n",
    "            if 'text' in text_block and text_block['text']:\n",
    "                concatenated_text += text_block['text'] + \"\\n\"\n",
    "        except Exception as e:\n",
    "            print(f\"Error processing text block: {e}\")\n",
    "            continue\n",
    "    \n",
    "    return concatenated_text.strip()\n",
    "\n",
    "\n",
    "# Usage example:\n",
    "# Add this to your notebook after the existing text processing loop\n",
    "\n",
    "print(\"=\"*50)\n",
    "print(\"CONCATENATED TEXT:\")\n",
    "print(\"=\"*50)\n",
    "full_text = concatenate_text_blocks(results['text'])\n",
    "print(full_text)\n",
    "print(f\"\\nTotal text length: {len(full_text)} characters\")\n",
    "print(f\"Number of text blocks processed: {len(results['text'])}\")\n",
    "\n",
    "# Optional: Save to file\n",
    "# with open('extracted_text.txt', 'w', encoding='utf-8') as f:\n",
    "#     f.write(full_text)\n"
   ]
  }
 ],
 "metadata": {
  "kernelspec": {
   "display_name": "venv",
   "language": "python",
   "name": "python3"
  },
  "language_info": {
   "codemirror_mode": {
    "name": "ipython",
    "version": 3
   },
   "file_extension": ".py",
   "mimetype": "text/x-python",
   "name": "python",
   "nbconvert_exporter": "python",
   "pygments_lexer": "ipython3",
   "version": "3.9.6"
  }
 },
 "nbformat": 4,
 "nbformat_minor": 5
}
